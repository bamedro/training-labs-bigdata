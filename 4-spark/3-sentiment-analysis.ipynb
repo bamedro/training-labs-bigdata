{
  "nbformat": 4,
  "nbformat_minor": 0,
  "metadata": {
    "colab": {
      "provenance": []
    },
    "kernelspec": {
      "name": "python3",
      "display_name": "Python 3"
    },
    "language_info": {
      "name": "python"
    }
  },
  "cells": [
    {
      "cell_type": "markdown",
      "source": [
        "# Analyse de sentiment avec SparkML\n",
        "\n",
        "Données Amazon Reviews:    \n",
        "L'ensemble de données des avis Amazon se compose d'avis d'Amazon. Les données couvrent une période de 18 ans d'avis jusqu'en mars 2013 et comptent plus de 7 millions d'avis.\n",
        "   \n",
        "   \n",
        "L'objectif de ce TP sera de faire de l'analyse de sentiment en utilisant un classifieur et la librairie Spark.\n"
      ],
      "metadata": {
        "id": "y3kGxpi-i7gX"
      }
    },
    {
      "cell_type": "markdown",
      "source": [
        "#1.Installation de Spark"
      ],
      "metadata": {
        "id": "J7DjSRuGknxA"
      }
    },
    {
      "cell_type": "code",
      "source": [
        "# Installation de Spark depuis le script d'installation\n",
        "!git clone https://github.com/bamedro/training-bigdata.git\n",
        "!chmod u+x ./training-bigdata/4-spark/setup-spark-on-ubuntu.sh\n",
        "!./training-bigdata/4-spark/setup-spark-on-ubuntu.sh"
      ],
      "metadata": {
        "id": "quT7tYiYkOwh"
      },
      "execution_count": null,
      "outputs": []
    },
    {
      "cell_type": "code",
      "source": [
        "# Définition des variables d'environnement (adapter si besoin)\n",
        "!ls /usr/lib/jvm/ /content\n",
        "import os\n",
        "os.environ[\"JAVA_HOME\"] = \"/usr/lib/jvm/java-17-openjdk-amd64\"\n",
        "os.environ[\"SPARK_HOME\"] = \"/content/spark-3.5.5-bin-hadoop3\""
      ],
      "metadata": {
        "id": "VWxiprfwk4rl"
      },
      "execution_count": null,
      "outputs": []
    },
    {
      "cell_type": "markdown",
      "source": [
        "#2.Téléchargement des données\n",
        "\n",
        "1. Créer un compte sur Kaggle (adresse mail)\n",
        "2. Connectez-vous sur Kaggle, puis accédez à votre profil Kaggle et créez un nouveau Token API Kaggle.\n",
        "Cela téléchargera automatiquement un fichier **kaggle.json** sur votre PC\n",
        "3. Importer ce fichier **kaggle.json** dans votre environnement Google Colab en utilisant la fonction **files.upload()** et **shutil.copy**\n",
        "4. installer la bibliothèque kaggle\n",
        "5. Télécharger et décompresser le jeu de données à l'aide de la fonction **kaggle.api.dataset_download_files**\n",
        "6. Renommer les fichiers test.csv et train.csv en TP_sparkML_test.csv et TP_sparkML_train.csv\n",
        "\n",
        "Jeu de données Amazon Review disponible à l'adresse suivante:\n",
        "https://www.kaggle.com/datasets/kritanjalijain/amazon-reviews/data"
      ],
      "metadata": {
        "id": "PG7VbW-rlT-1"
      }
    },
    {
      "cell_type": "markdown",
      "source": [
        "### 2.3 Importer kaggle.json"
      ],
      "metadata": {
        "id": "kESDzJSPctLh"
      }
    },
    {
      "cell_type": "code",
      "source": [
        "from google.colab import files\n",
        "import shutil\n",
        "\n",
        "# Utilisez files.upload() pour charger le fichier kaggle.json obtenu lors de votre inscription\n",
        "uploaded = files.upload()\n",
        "\n",
        "!mkdir /root/.kaggle\n",
        "shutil.copy('kaggle.json', '/root/.kaggle/kaggle.json')"
      ],
      "metadata": {
        "id": "-MiULgjtpWHQ"
      },
      "execution_count": null,
      "outputs": []
    },
    {
      "cell_type": "markdown",
      "source": [
        "### 2.4 Installer et importer Kaggle"
      ],
      "metadata": {
        "id": "j-rUsbxzfX0_"
      }
    },
    {
      "cell_type": "code",
      "source": [
        "!pip install kaggle"
      ],
      "metadata": {
        "id": "lxDztD_znJw-"
      },
      "execution_count": null,
      "outputs": []
    },
    {
      "cell_type": "code",
      "source": [
        "import kaggle"
      ],
      "metadata": {
        "id": "ZjDp3UeSl-ar"
      },
      "execution_count": null,
      "outputs": []
    },
    {
      "cell_type": "code",
      "source": [
        "# Rendre la clé non lisible par d'autres utilisateurs du système\n",
        "!chmod 400 /root/.kaggle/kaggle.json"
      ],
      "metadata": {
        "id": "jqREIBjmsQfU"
      },
      "execution_count": null,
      "outputs": []
    },
    {
      "cell_type": "markdown",
      "source": [
        "### 2.5 Jeu de données\n",
        "Utiliser la commande *kaggle* pour :\n",
        "- Vérifier la disponibilité de votre jeu de données kritanjalijain/amazon-reviews\n",
        "- Télécharger et décompresser le jeu de données à l'aide de la fonction kaggle.api.dataset_download_files"
      ],
      "metadata": {
        "id": "vIHMBx9yfpkg"
      }
    },
    {
      "cell_type": "code",
      "source": [
        "# Lister les jeux de données disponibles\n",
        "!kaggle --help",
        "..."
      ],
      "metadata": {
        "colab": {
          "base_uri": "https://localhost:8080/"
        },
        "id": "D-R1xFjdvdZ5",
        "outputId": "41fae0fc-8e33-4c79-a63b-0e8a42941205"
      },
      "execution_count": null,
      "outputs": [
        {
          "output_type": "stream",
          "name": "stdout",
          "text": [
            "ref                                        title                        size  lastUpdated          downloadCount  voteCount  usabilityRating  \n",
            "-----------------------------------------  --------------------------  -----  -------------------  -------------  ---------  ---------------  \n",
            "kritanjalijain/amazon-reviews              Amazon reviews                1GB  2021-05-15 09:45:40           9491        120  1.0              \n",
            "kritanjalijain/maestropianomidi            Maestro-Piano-Midi           56MB  2021-04-29 07:31:56            424         14  0.8235294        \n",
            "kritanjalijain/beethoven-midi              beethoven_midi              347KB  2021-04-29 08:41:42             65          4  0.1875           \n",
            "kritanjalijain/outfititems                 outfit-items                  6GB  2022-02-13 12:46:33            324         17  0.75             \n",
            "kritanjalijain/music-midi-dataset          music_midi_dataset           56KB  2021-04-26 15:51:32            236          7  0.8125           \n",
            "kritanjalijain/gestures-hand               gestures (hand)              41MB  2020-11-30 07:23:55            148          8  0.75             \n",
            "kritanjalijain/fashionoutfititems          fashion-outfit-items          7GB  2022-02-03 17:55:30            182          5  0.6875           \n",
            "kritanjalijain/fashion-anchor-cloth-pairs  Fashion Anchor Cloth Pairs   14GB  2021-12-21 11:26:19            256         15  0.6875           \n",
            "kritanjalijain/outfit-split                outfit-split                  6GB  2022-02-20 12:55:52              3          1  0.25             \n"
          ]
        }
      ]
    },
    {
      "cell_type": "code",
      "source": [
        "# Utiliser l'API Python de Kaggle pour télécharger et décompresser le jeu de données dans le répertoire courant\n",
        "# https://www.kaggle.com/code/donkeys/kaggle-python-api",
        "...\n"
      ],
      "metadata": {
        "id": "AF0ZJU7Tqub6"
      },
      "execution_count": null,
      "outputs": []
    },
    {
      "cell_type": "markdown",
      "source": [
        "À présent vous devriez avoir dans vos fichiers Google Colab:\n",
        "- test.csv\n",
        "- train.csv\n",
        "\n",
        "Pour plus de clarté nous allons renommer ces fichiers TP_sparkML_test.csv et TP_sparkML_train.csv"
      ],
      "metadata": {
        "id": "EyKH4ctKw_9U"
      }
    },
    {
      "cell_type": "code",
      "source": [
        "!mv test.csv TP_sparkML_test.csv\n",
        "!mv train.csv TP_sparkML_train.csv"
      ],
      "metadata": {
        "id": "vwxE_W7Iw-uY"
      },
      "execution_count": null,
      "outputs": []
    },
    {
      "cell_type": "markdown",
      "source": [
        "##3. Aperçu des données\n",
        "\n",
        "1. Créer une SparkSession appelée *TP_SparkML*\n",
        "2. Charger les données train et test dans des spark Dataframes\n",
        "3. Observer les données: répartitions, quantité, intitulé des colonnes..."
      ],
      "metadata": {
        "id": "UYrJEcoBy3zL"
      }
    },
    {
      "cell_type": "markdown",
      "source": [
        "###3.1 Créer la SparkSession"
      ],
      "metadata": {
        "id": "asnSBGWWumQK"
      }
    },
    {
      "cell_type": "code",
      "source": [
        "# Importez les modules nécessaires\n",
        "from pyspark.sql import SparkSession"
      ],
      "metadata": {
        "id": "ChhUjToayWwt"
      },
      "execution_count": null,
      "outputs": []
    },
    {
      "cell_type": "code",
      "source": [
        "# Créez une SparkSession\n",
        "spark = ..."
      ],
      "metadata": {
        "id": "jt961B5Z0XNJ"
      },
      "execution_count": null,
      "outputs": []
    },
    {
      "cell_type": "markdown",
      "source": [
        "###3.2 Chargement des données CSV dans des Spark Dataframes\n",
        "Créer deux Dataframes, *test* et *train*, à partir des fichiers CSV correspondants"
      ],
      "metadata": {
        "id": "6lw5nJxLuuqU"
      }
    },
    {
      "cell_type": "code",
      "source": [
        "# Chemins\n",
        "train_path = '/content/TP_sparkML_train.csv'\n",
        "test_path = '/content/TP_sparkML_test.csv'\n",
        "# spark Dataframes\n",
        "train = ...\n",
        "test = ..."
      ],
      "metadata": {
        "id": "y7mi7lam0Yvz"
      },
      "execution_count": null,
      "outputs": []
    },
    {
      "cell_type": "code",
      "source": [
        "train.show(5)"
      ],
      "metadata": {
        "colab": {
          "base_uri": "https://localhost:8080/"
        },
        "id": "FiJrDbCytGwo",
        "outputId": "624dca1e-7652-4ce0-98aa-619062a7aef1"
      },
      "execution_count": null,
      "outputs": [
        {
          "output_type": "stream",
          "name": "stdout",
          "text": [
            "+---+--------------------+--------------------+\n",
            "|_c0|                 _c1|                 _c2|\n",
            "+---+--------------------+--------------------+\n",
            "|  2|Stuning even for ...|This sound track ...|\n",
            "|  2|The best soundtra...|I'm reading a lot...|\n",
            "|  2|            Amazing!|\"This soundtrack ...|\n",
            "|  2|Excellent Soundtrack|I truly like this...|\n",
            "|  2|Remember, Pull Yo...|If you've played ...|\n",
            "+---+--------------------+--------------------+\n",
            "only showing top 5 rows\n",
            "\n"
          ]
        }
      ]
    },
    {
      "cell_type": "markdown",
      "source": [
        "### 3.3 Étudier la taille des dataframes et la répartition des classes"
      ],
      "metadata": {
        "id": "u4yzObDEycXb"
      }
    },
    {
      "cell_type": "code",
      "source": [
        "# Afficher le nombre de lignes dans le trainset, puis dans le testset\n",
        "print(\"Nombre de lignes du jeu de données train:\", ...)\n",
        "print(\"Nombre de lignes du jeu de données test:\", ...)"
      ],
      "metadata": {
        "colab": {
          "base_uri": "https://localhost:8080/"
        },
        "id": "s8rybehj3UwI",
        "outputId": "1df6aa44-345b-4062-8aa9-10b3488b78cd"
      },
      "execution_count": null,
      "outputs": [
        {
          "output_type": "stream",
          "name": "stdout",
          "text": [
            "Nombre de lignes du jeu de données train: 3600000\n",
            "Nombre de lignes du jeu de données test: 400000\n"
          ]
        }
      ]
    },
    {
      "cell_type": "code",
      "source": [
        "# Récupérer le schéma du Dataframe\n",
        "train.printSchema()"
      ],
      "metadata": {
        "colab": {
          "base_uri": "https://localhost:8080/"
        },
        "id": "RIzy4nk5xJKv",
        "outputId": "179c38b6-9cea-4c76-ae60-3ec87c13afc7"
      },
      "execution_count": null,
      "outputs": [
        {
          "output_type": "stream",
          "name": "stdout",
          "text": [
            "root\n",
            " |-- _c0: string (nullable = true)\n",
            " |-- _c1: string (nullable = true)\n",
            " |-- _c2: string (nullable = true)\n",
            "\n"
          ]
        }
      ]
    },
    {
      "cell_type": "code",
      "source": [
        "# Afficher la répartition des classes positives et négatives dans train\n",
        "...\n",
        "class_counts_train.show()"
      ],
      "metadata": {
        "colab": {
          "base_uri": "https://localhost:8080/"
        },
        "id": "-YXpbuqeyw8h",
        "outputId": "29d12373-b9b0-4eda-8e5a-f5de768193c6"
      },
      "execution_count": null,
      "outputs": [
        {
          "output_type": "stream",
          "name": "stdout",
          "text": [
            "+---+-------+\n",
            "|_c0|  count|\n",
            "+---+-------+\n",
            "|  1|1800000|\n",
            "|  2|1800000|\n",
            "+---+-------+\n",
            "\n"
          ]
        }
      ]
    },
    {
      "cell_type": "code",
      "source": [
        "# Afficher la répartition des classes positives et négatives dans test\n",
        "...\n",
        "class_counts_test.show()"
      ],
      "metadata": {
        "colab": {
          "base_uri": "https://localhost:8080/"
        },
        "id": "CT_NvjMuzH-O",
        "outputId": "c9ebd0df-5442-447d-bdc1-88e0d4e02f64"
      },
      "execution_count": null,
      "outputs": [
        {
          "output_type": "stream",
          "name": "stdout",
          "text": [
            "+---+------+\n",
            "|_c0| count|\n",
            "+---+------+\n",
            "|  1|200000|\n",
            "|  2|200000|\n",
            "+---+------+\n",
            "\n"
          ]
        }
      ]
    },
    {
      "cell_type": "markdown",
      "source": [
        "### Que constatez-vous sur la répartition de votre jeu de données?\n",
        "\n",
        "..."
      ],
      "metadata": {
        "id": "s5sL8L2zyo72"
      }
    },
    {
      "cell_type": "markdown",
      "source": [
        "### Est-ce que chaque review contient un commentaire?"
      ],
      "metadata": {
        "id": "L6s6hMwGy0Pf"
      }
    },
    {
      "cell_type": "code",
      "source": [
        "# Appliquer un filtre sur train pour ne conserver que les commentaires vides\n",
        "...\n",
        "\n",
        "# Affichez les lignes de train où la colonne _c2 est vide\n",
        "empty_reviews_train.show()"
      ],
      "metadata": {
        "id": "0ooCxYGetVGj",
        "colab": {
          "base_uri": "https://localhost:8080/"
        },
        "outputId": "92fe3372-8150-4e28-8769-bfc3cbfba499"
      },
      "execution_count": null,
      "outputs": [
        {
          "output_type": "stream",
          "name": "stdout",
          "text": [
            "+---+---+---+\n",
            "|_c0|_c1|_c2|\n",
            "+---+---+---+\n",
            "+---+---+---+\n",
            "\n"
          ]
        }
      ]
    },
    {
      "cell_type": "code",
      "source": [
        "# Appliquer un filtre sur test pour ne conserver que les commentaires vides\n",
        "...\n",
        "\n",
        "# Affichez les lignes de test où la colonne _c2 est vide\n",
        "empty_reviews_test.show()"
      ],
      "metadata": {
        "colab": {
          "base_uri": "https://localhost:8080/"
        },
        "id": "m6L7VsT70_iv",
        "outputId": "f2465e3d-be3e-40cd-e04e-ec82df913bf5"
      },
      "execution_count": null,
      "outputs": [
        {
          "output_type": "stream",
          "name": "stdout",
          "text": [
            "+---+---+---+\n",
            "|_c0|_c1|_c2|\n",
            "+---+---+---+\n",
            "+---+---+---+\n",
            "\n"
          ]
        }
      ]
    },
    {
      "cell_type": "markdown",
      "source": [
        "### Quelles seront les étapes de préparation des données?"
      ],
      "metadata": {
        "id": "r6HcrV_hrsY8"
      }
    },
    {
      "cell_type": "markdown",
      "source": [
        "Détailler les différentes étapes qui permettront d'utiliser ces données pour entraîner un modèle.\n",
        "\n",
        "1. **Suppression du bruit** : ....\n",
        "\n",
        "2. **Tokenisation** : ...\n",
        "\n",
        "3. **Suppression des stopwords** : ...\n",
        "\n",
        "4. **Représentation du texte** : ..."
      ],
      "metadata": {
        "id": "L5qUdacFt_mB"
      }
    },
    {
      "cell_type": "markdown",
      "source": [
        "#4. Préparation des données\n",
        "\n",
        "1. Suppression du bruit: supprimer les informations non pertinentes (les caractères spéciaux, les chiffres, les signes de ponctuation et les liens URL)\n",
        "2. Tokenisation du texte\n",
        "3. Suppression des Stopwords\n",
        "4. Représenter le texte dans un format adapté au ML (TF/IDF)\n",
        "5. Créer une colonne label qui convertit les classes en 0 ou 1 et de type integer\n",
        "6. Appliquer sur test"
      ],
      "metadata": {
        "id": "QzKYAt9zs65u"
      }
    },
    {
      "cell_type": "markdown",
      "source": [
        "Vous pourrez vous aider des exemples de code disponibles dans l'archive Spark téléchargée au début du TP :\n",
        "/content/spark-3.5.5-bin-hadoop3/examples/src/main/python/ml"
      ],
      "metadata": {
        "id": "f9ZSh9O8nnTc"
      }
    },
    {
      "cell_type": "code",
      "source": [
        "import re\n",
        "from pyspark.sql.types import StringType\n",
        "from pyspark.sql.functions import udf\n",
        "from pyspark.ml.feature import RegexTokenizer, StopWordsRemover, HashingTF, IDF"
      ],
      "metadata": {
        "id": "XtXvlwdifNxn"
      },
      "execution_count": null,
      "outputs": []
    },
    {
      "cell_type": "markdown",
      "source": [
        "### 4.1 Suppression du bruit avec UDF (User Defined Function)\n",
        "\n",
        "Les UDF permettent d'appliquer des fonctions sur les lignes d'un Dataframe.\n",
        "\n",
        "Créer une fonction de suppression des caractères spéciaux et l'appliquer\n",
        "avec UDF"
      ],
      "metadata": {
        "id": "LA9xAMDK41NC"
      }
    },
    {
      "cell_type": "code",
      "source": [
        "# Créez une fonction UDF pour supprimer les caractères spéciaux,\n",
        "# les chiffres et les URL. Cette fonction passe également\n",
        "# la chaine en minuscule\n",
        "def clean_text(text):\n",
        "  ...\n",
        "  return ..."
      ],
      "metadata": {
        "id": "V3MIHxfklVSp"
      },
      "execution_count": null,
      "outputs": []
    },
    {
      "cell_type": "code",
      "source": [
        "# Appliquez la fonction UDF à votre colonne de reviews (_c2)\n",
        "..."
      ],
      "metadata": {
        "id": "iPYn9kS54Xg5"
      },
      "execution_count": null,
      "outputs": []
    },
    {
      "cell_type": "code",
      "source": [
        "train.show(5)"
      ],
      "metadata": {
        "colab": {
          "base_uri": "https://localhost:8080/"
        },
        "id": "R0m2CjC34Zzt",
        "outputId": "dda9dd40-99ce-4c60-faf3-4749c77612d8"
      },
      "execution_count": null,
      "outputs": [
        {
          "output_type": "stream",
          "name": "stdout",
          "text": [
            "+---+--------------------+--------------------+\n",
            "|_c0|                 _c1|                 _c2|\n",
            "+---+--------------------+--------------------+\n",
            "|  2|Stuning even for ...|this sound track ...|\n",
            "|  2|The best soundtra...|im reading a lot ...|\n",
            "|  2|            Amazing!|this soundtrack i...|\n",
            "|  2|Excellent Soundtrack|i truly like this...|\n",
            "|  2|Remember, Pull Yo...|if youve played t...|\n",
            "+---+--------------------+--------------------+\n",
            "only showing top 5 rows\n",
            "\n"
          ]
        }
      ]
    },
    {
      "cell_type": "markdown",
      "source": [
        "### 4.2 Tokenisation du texte"
      ],
      "metadata": {
        "id": "Qn0bz0KHdEcl"
      }
    },
    {
      "cell_type": "code",
      "source": [
        "# Tokenisation du texte\n",
        "...\n",
        "train.show(5)"
      ],
      "metadata": {
        "id": "sU33FrkfgTUH",
        "colab": {
          "base_uri": "https://localhost:8080/"
        },
        "outputId": "c5688c2d-0246-4223-ee8e-64bea8311039"
      },
      "execution_count": null,
      "outputs": [
        {
          "output_type": "stream",
          "name": "stdout",
          "text": [
            "+---+--------------------+--------------------+--------------------+\n",
            "|_c0|                 _c1|                 _c2|               words|\n",
            "+---+--------------------+--------------------+--------------------+\n",
            "|  2|Stuning even for ...|this sound track ...|[this, sound, tra...|\n",
            "|  2|The best soundtra...|im reading a lot ...|[im, reading, a, ...|\n",
            "|  2|            Amazing!|this soundtrack i...|[this, soundtrack...|\n",
            "|  2|Excellent Soundtrack|i truly like this...|[i, truly, like, ...|\n",
            "|  2|Remember, Pull Yo...|if youve played t...|[if, youve, playe...|\n",
            "+---+--------------------+--------------------+--------------------+\n",
            "only showing top 5 rows\n",
            "\n"
          ]
        }
      ]
    },
    {
      "cell_type": "markdown",
      "source": [
        "### 4.3 Suppression des Stopwords"
      ],
      "metadata": {
        "id": "mTH4C8nh5JwQ"
      }
    },
    {
      "cell_type": "code",
      "source": [
        "# Suppression des stopwords\n",
        "...\n",
        "train.show(5)"
      ],
      "metadata": {
        "id": "5AUz_b1pmRWw",
        "colab": {
          "base_uri": "https://localhost:8080/"
        },
        "outputId": "6ffe312a-4f6d-4b63-9757-4837e6bdcb59"
      },
      "execution_count": null,
      "outputs": [
        {
          "output_type": "stream",
          "name": "stdout",
          "text": [
            "+---+--------------------+--------------------+--------------------+--------------------+\n",
            "|_c0|                 _c1|                 _c2|               words|         clean_words|\n",
            "+---+--------------------+--------------------+--------------------+--------------------+\n",
            "|  2|Stuning even for ...|this sound track ...|[this, sound, tra...|[sound, track, be...|\n",
            "|  2|The best soundtra...|im reading a lot ...|[im, reading, a, ...|[im, reading, lot...|\n",
            "|  2|            Amazing!|this soundtrack i...|[this, soundtrack...|[soundtrack, favo...|\n",
            "|  2|Excellent Soundtrack|i truly like this...|[i, truly, like, ...|[truly, like, sou...|\n",
            "|  2|Remember, Pull Yo...|if youve played t...|[if, youve, playe...|[youve, played, g...|\n",
            "+---+--------------------+--------------------+--------------------+--------------------+\n",
            "only showing top 5 rows\n",
            "\n"
          ]
        }
      ]
    },
    {
      "cell_type": "markdown",
      "source": [
        "### 4.4 Vectorisation des textes"
      ],
      "metadata": {
        "id": "5x-FErNL58W1"
      }
    },
    {
      "cell_type": "code",
      "source": [
        "# TF (Term Frequency)\n",
        "hashingTF = ...\n",
        "train = hashingTF.transform(train)\n",
        "\n",
        "# IDF (Inverse Document Frequency)\n",
        "idf = ...\n",
        "train = idf.transform(train)\n",
        "train.show(5)"
      ],
      "metadata": {
        "colab": {
          "base_uri": "https://localhost:8080/"
        },
        "id": "QPFWYBUf5xKR",
        "outputId": "554cadc3-55f8-47a0-dcdc-147e828a69f2"
      },
      "execution_count": null,
      "outputs": [
        {
          "output_type": "stream",
          "name": "stdout",
          "text": [
            "+---+--------------------+--------------------+--------------------+--------------------+--------------------+--------------------+\n",
            "|_c0|                 _c1|                 _c2|               words|         clean_words|       text_features|            features|\n",
            "+---+--------------------+--------------------+--------------------+--------------------+--------------------+--------------------+\n",
            "|  2|Stuning even for ...|this sound track ...|[this, sound, tra...|[sound, track, be...|(1000,[28,69,92,1...|(1000,[28,69,92,1...|\n",
            "|  2|The best soundtra...|im reading a lot ...|[im, reading, a, ...|[im, reading, lot...|(1000,[1,23,38,60...|(1000,[1,23,38,60...|\n",
            "|  2|            Amazing!|this soundtrack i...|[this, soundtrack...|[soundtrack, favo...|(1000,[0,29,57,86...|(1000,[0,29,57,86...|\n",
            "|  2|Excellent Soundtrack|i truly like this...|[i, truly, like, ...|[truly, like, sou...|(1000,[33,45,57,6...|(1000,[33,45,57,6...|\n",
            "|  2|Remember, Pull Yo...|if youve played t...|[if, youve, playe...|[youve, played, g...|(1000,[35,43,45,6...|(1000,[35,43,45,6...|\n",
            "+---+--------------------+--------------------+--------------------+--------------------+--------------------+--------------------+\n",
            "only showing top 5 rows\n",
            "\n"
          ]
        }
      ]
    },
    {
      "cell_type": "code",
      "source": [
        "# Visionner la première ligne de votre train pour observer toutes les étapes du traitement des données\n",
        "train.show(n=1, truncate=False)"
      ],
      "metadata": {
        "colab": {
          "base_uri": "https://localhost:8080/"
        },
        "id": "uAfTNIVQ6c8h",
        "outputId": "1a79446c-2ee4-42f6-fdfc-d2cd37effc52"
      },
      "execution_count": null,
      "outputs": [
        {
          "output_type": "stream",
          "name": "stdout",
          "text": [
            "+---+------------------------------+-------------------------------------------------------------------------------------------------------------------------------------------------------------------------------------------------------------------------------------------------------------------------------------------------------------------------------------------------------------------------------------------------+---------------------------------------------------------------------------------------------------------------------------------------------------------------------------------------------------------------------------------------------------------------------------------------------------------------------------------------------------------------------------------------------------------------------------------------------------------------------------+------------------------------------------------------------------------------------------------------------------------------------------------------------------------------------------------------------------------------------------------------------------------------------------------+-----------------------------------------------------------------------------------------------------------------------------------------------------------------------------------------------------------------------------------------------------------------------------------------------+--------------------------------------------------------------------------------------------------------------------------------------------------------------------------------------------------------------------------------------------------------------------------------------------------------------------------------------------------------------------------------------------------------------------------------------------------------------------------------------------------------------------------------------------------------------------------------------------------------------------------------------------------------------------------------------------------------------------------------------------------------------------------------------------------------------------+\n",
            "|_c0|_c1                           |_c2                                                                                                                                                                                                                                                                                                                                                                                              |words                                                                                                                                                                                                                                                                                                                                                                                                                                                                      |clean_words                                                                                                                                                                                                                                                                                     |text_features                                                                                                                                                                                                                                                                                  |features                                                                                                                                                                                                                                                                                                                                                                                                                                                                                                                                                                                                                                                                                                                                                                                                            |\n",
            "+---+------------------------------+-------------------------------------------------------------------------------------------------------------------------------------------------------------------------------------------------------------------------------------------------------------------------------------------------------------------------------------------------------------------------------------------------+---------------------------------------------------------------------------------------------------------------------------------------------------------------------------------------------------------------------------------------------------------------------------------------------------------------------------------------------------------------------------------------------------------------------------------------------------------------------------+------------------------------------------------------------------------------------------------------------------------------------------------------------------------------------------------------------------------------------------------------------------------------------------------+-----------------------------------------------------------------------------------------------------------------------------------------------------------------------------------------------------------------------------------------------------------------------------------------------+--------------------------------------------------------------------------------------------------------------------------------------------------------------------------------------------------------------------------------------------------------------------------------------------------------------------------------------------------------------------------------------------------------------------------------------------------------------------------------------------------------------------------------------------------------------------------------------------------------------------------------------------------------------------------------------------------------------------------------------------------------------------------------------------------------------------+\n",
            "|2  |Stuning even for the non-gamer|this sound track was beautiful it paints the senery in your mind so well i would recomend it even to people who hate vid game music i have played the game chrono cross but out of all of the games i have ever played it has the best music it backs away from crude keyboarding and takes a fresher step with grate guitars and soulful orchestras it would impress anyone who cares to listen |[this, sound, track, was, beautiful, it, paints, the, senery, in, your, mind, so, well, i, would, recomend, it, even, to, people, who, hate, vid, game, music, i, have, played, the, game, chrono, cross, but, out, of, all, of, the, games, i, have, ever, played, it, has, the, best, music, it, backs, away, from, crude, keyboarding, and, takes, a, fresher, step, with, grate, guitars, and, soulful, orchestras, it, would, impress, anyone, who, cares, to, listen]|[sound, track, beautiful, paints, senery, mind, well, recomend, even, people, hate, vid, game, music, played, game, chrono, cross, games, ever, played, best, music, backs, away, crude, keyboarding, takes, fresher, step, grate, guitars, soulful, orchestras, impress, anyone, cares, listen]|(1000,[28,69,92,157,166,184,198,263,273,284,370,406,407,429,499,540,558,571,594,644,666,708,723,737,757,763,830,876,887,908,913,925,975,985,996],[1.0,1.0,1.0,1.0,1.0,1.0,1.0,1.0,1.0,1.0,2.0,1.0,1.0,1.0,2.0,1.0,1.0,1.0,1.0,1.0,1.0,1.0,1.0,1.0,1.0,1.0,1.0,1.0,1.0,1.0,1.0,1.0,2.0,1.0,1.0])|(1000,[28,69,92,157,166,184,198,263,273,284,370,406,407,429,499,540,558,571,594,644,666,708,723,737,757,763,830,876,887,908,913,925,975,985,996],[4.252168925193407,3.543174135418859,3.110775594199149,1.4187684746127687,2.269131789790364,3.1125785261667733,3.197488403264483,2.4515656439219957,3.007237367549244,4.678757204263009,4.590717535804846,2.0501462665340737,4.566831549539382,3.408322984382483,6.986772100869595,3.3439748958185858,4.122521431268577,4.644922429119688,2.068851429459569,3.1011054127447775,3.0375098631333763,2.925170541216599,3.5852907845347173,3.0764124990366115,4.953704035620672,2.448070464736079,4.014332902030455,4.48356757256214,3.6718150541539774,4.162980632389978,2.6280423871901544,2.9811888258908894,5.567596512636448,4.261876311321159,3.267956934055001])|\n",
            "+---+------------------------------+-------------------------------------------------------------------------------------------------------------------------------------------------------------------------------------------------------------------------------------------------------------------------------------------------------------------------------------------------------------------------------------------------+---------------------------------------------------------------------------------------------------------------------------------------------------------------------------------------------------------------------------------------------------------------------------------------------------------------------------------------------------------------------------------------------------------------------------------------------------------------------------+------------------------------------------------------------------------------------------------------------------------------------------------------------------------------------------------------------------------------------------------------------------------------------------------+-----------------------------------------------------------------------------------------------------------------------------------------------------------------------------------------------------------------------------------------------------------------------------------------------+--------------------------------------------------------------------------------------------------------------------------------------------------------------------------------------------------------------------------------------------------------------------------------------------------------------------------------------------------------------------------------------------------------------------------------------------------------------------------------------------------------------------------------------------------------------------------------------------------------------------------------------------------------------------------------------------------------------------------------------------------------------------------------------------------------------------+\n",
            "only showing top 1 row\n",
            "\n"
          ]
        }
      ]
    },
    {
      "cell_type": "markdown",
      "source": [
        "### 4.5 Convertir et nommer la colonne des labels"
      ],
      "metadata": {
        "id": "SD9Ap5YBJFoM"
      }
    },
    {
      "cell_type": "code",
      "source": [
        "from pyspark.sql.functions import col"
      ],
      "metadata": {
        "id": "lbHkj7qKJPa0"
      },
      "execution_count": null,
      "outputs": []
    },
    {
      "cell_type": "code",
      "source": [
        "# Convertir la colonne _c0 en type integer et créer une nouvelle colonne \"label\"\n",
        "# Convertir les labels pour qu'ils aient la valeur 0 ou 1 (binaire)\n",
        "# à la place de 1 ou 2 pour le modèle\n",
        "...\n"
      ],
      "metadata": {
        "id": "KFkFv-5LJJOu"
      },
      "execution_count": null,
      "outputs": []
    },
    {
      "cell_type": "code",
      "source": [
        "train.printSchema()"
      ],
      "metadata": {
        "colab": {
          "base_uri": "https://localhost:8080/"
        },
        "id": "IIr4YZnbJTFi",
        "outputId": "bb338a62-788c-4525-d305-a768f65a45b4"
      },
      "execution_count": null,
      "outputs": [
        {
          "output_type": "stream",
          "name": "stdout",
          "text": [
            "root\n",
            " |-- _c0: string (nullable = true)\n",
            " |-- _c1: string (nullable = true)\n",
            " |-- _c2: string (nullable = true)\n",
            " |-- words: array (nullable = true)\n",
            " |    |-- element: string (containsNull = true)\n",
            " |-- clean_words: array (nullable = true)\n",
            " |    |-- element: string (containsNull = true)\n",
            " |-- text_features: vector (nullable = true)\n",
            " |-- features: vector (nullable = true)\n",
            " |-- label: integer (nullable = true)\n",
            "\n"
          ]
        }
      ]
    },
    {
      "cell_type": "code",
      "source": [
        "# Sélectionnez les colonnes 'label' et 'features' dans le DataFrame train\n",
        "df_train = ...\n",
        "\n",
        "df_train.show(5)"
      ],
      "metadata": {
        "colab": {
          "base_uri": "https://localhost:8080/"
        },
        "id": "WdwhKezXJUxZ",
        "outputId": "e7b49b7d-0a74-4b04-8653-c0c8291b7118"
      },
      "execution_count": null,
      "outputs": [
        {
          "output_type": "stream",
          "name": "stdout",
          "text": [
            "+--------------------+-----+\n",
            "|            features|label|\n",
            "+--------------------+-----+\n",
            "|(1000,[28,69,92,1...|    1|\n",
            "|(1000,[1,23,38,60...|    1|\n",
            "|(1000,[0,29,57,86...|    1|\n",
            "|(1000,[33,45,57,6...|    1|\n",
            "|(1000,[35,43,45,6...|    1|\n",
            "+--------------------+-----+\n",
            "only showing top 5 rows\n",
            "\n"
          ]
        }
      ]
    },
    {
      "cell_type": "markdown",
      "source": [
        "### 4.6 Préparation du df_test"
      ],
      "metadata": {
        "id": "rIQmdSBwfZpj"
      }
    },
    {
      "cell_type": "code",
      "source": [
        "# Préparer le jeu de données de test avec la même procédure\n",
        "\n",
        "# Appliquez la fonction UDF à vos colonnes\n",
        "test = ...\n",
        "# Tokenisation du texte\n",
        "test = ...\n",
        "# Suppression des stopwords\n",
        "test = ...\n",
        "# TF (Term Frequency)\n",
        "test = ...\n",
        "# IDF (Inverse Document Frequency)\n",
        "test = ...\n",
        "# Labels\n",
        "test = ...\n",
        "# Sélectionnez les colonnes 'label' et 'features' dans le DataFrame train\n",
        "df_test = ...\n",
        "\n",
        "df_test.show(5)"
      ],
      "metadata": {
        "colab": {
          "base_uri": "https://localhost:8080/"
        },
        "id": "n3mLIsY4fNtY",
        "outputId": "88d8afc3-806c-4c2c-a141-a9f0bb5fa610"
      },
      "execution_count": null,
      "outputs": [
        {
          "output_type": "stream",
          "name": "stdout",
          "text": [
            "+--------------------+-----+\n",
            "|            features|label|\n",
            "+--------------------+-----+\n",
            "|(1000,[1,48,83,11...|    1|\n",
            "|(1000,[23,40,48,8...|    1|\n",
            "|(1000,[34,56,86,1...|    0|\n",
            "|(1000,[34,56,110,...|    1|\n",
            "|(1000,[51,55,56,5...|    1|\n",
            "+--------------------+-----+\n",
            "only showing top 5 rows\n",
            "\n"
          ]
        }
      ]
    },
    {
      "cell_type": "markdown",
      "source": [
        "# 5. Modélisation\n",
        "1. Importez les classes nécessaires de Spark MLlib pour le modèle et les évaluations de modèle\n",
        "2. Créez et entraînez un modèle\n",
        "3. Utilisez le modèle entraîné pour faire des prédictions sur les données de test\n",
        "4. Évaluez la performance du modèle en utilisant une métrique appropriée, comme la précision (accuracy)"
      ],
      "metadata": {
        "id": "w3nMW5GkKZ4L"
      }
    },
    {
      "cell_type": "markdown",
      "source": [
        "### 5.1 Importations"
      ],
      "metadata": {
        "id": "XVqQbK_7K0dw"
      }
    },
    {
      "cell_type": "markdown",
      "source": [
        "Choisir un type de modèle parmi les propositions"
      ],
      "metadata": {
        "id": "4GvSnIMPUwU6"
      }
    },
    {
      "cell_type": "code",
      "source": [
        "# from pyspark.ml.classification import LinearSVC\n",
        "# from pyspark.ml.classification import LogisticRegression\n",
        "# from pyspark.ml.classification import NaiveBayes\n",
        "# from pyspark.ml.classification import DecisionTreeClassifier"
      ],
      "metadata": {
        "id": "6GHO_j--UryU"
      },
      "execution_count": null,
      "outputs": []
    },
    {
      "cell_type": "code",
      "source": [
        "# Importer un Evaluater pour évaluer l'efficacité de votre modèle\n",
        "from pyspark.ml.evaluation import MulticlassClassificationEvaluator"
      ],
      "metadata": {
        "id": "SvjtRsIrJ3k6"
      },
      "execution_count": null,
      "outputs": []
    },
    {
      "cell_type": "markdown",
      "source": [
        "### 5.2 Créer un modèle de votre choix"
      ],
      "metadata": {
        "id": "urliQdnyK8L8"
      }
    },
    {
      "cell_type": "code",
      "source": [
        "svm_model = ..."
      ],
      "metadata": {
        "id": "rc_m9_tVK6yI"
      },
      "execution_count": null,
      "outputs": []
    },
    {
      "cell_type": "markdown",
      "source": [
        "### 5.3 Prédictions des données test"
      ],
      "metadata": {
        "id": "CNaE4ZcFkC4y"
      }
    },
    {
      "cell_type": "code",
      "source": [
        "predictions = ..."
      ],
      "metadata": {
        "id": "JIJFV2ZjLRdP"
      },
      "execution_count": null,
      "outputs": []
    },
    {
      "cell_type": "markdown",
      "source": [
        "### 5.4 Évaluer la performance"
      ],
      "metadata": {
        "id": "MGWCMHPOkPYx"
      }
    },
    {
      "cell_type": "code",
      "source": [
        "evaluator = ...\n",
        "\n",
        "print(f\"Accuracy: {accuracy}\")"
      ],
      "metadata": {
        "colab": {
          "base_uri": "https://localhost:8080/"
        },
        "id": "45eYt6RfkM-L",
        "outputId": "1cd97527-f4ed-458a-bea0-94dfb05dc406"
      },
      "execution_count": null,
      "outputs": [
        {
          "output_type": "stream",
          "name": "stdout",
          "text": [
            "Accuracy: 0.7618025\n"
          ]
        }
      ]
    }
  ]
}
