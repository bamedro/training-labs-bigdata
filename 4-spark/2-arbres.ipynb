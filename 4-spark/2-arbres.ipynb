{
  "cells": [
    {
      "cell_type": "markdown",
      "metadata": {
        "id": "lN3e20L3m4qd"
      },
      "source": [
        "# Installation de Spark"
      ]
    },
    {
      "cell_type": "code",
      "execution_count": null,
      "metadata": {
        "id": "yaTyUzqvnADf"
      },
      "outputs": [],
      "source": [
        "# Install Spark\n",
        "!wget -nc -q https://raw.githubusercontent.com/bamedro/training-bigdata/main/4-spark/setup-spark-on-ubuntu.sh\n",
        "!chmod u+x setup-spark-on-ubuntu.sh\n",
        "!./setup-spark-on-ubuntu.sh"
      ]
    },
    {
      "cell_type": "code",
      "execution_count": null,
      "metadata": {
        "id": "mniiygsUnDNr"
      },
      "outputs": [],
      "source": [
        "# Définition des variables d'environnement (adapter si besoin)\n",
        "!ls /usr/lib/jvm /content\n",
        "import os\n",
        "os.environ[\"JAVA_HOME\"] = \"/usr/lib/jvm/java-17-openjdk-amd64\"\n",
        "os.environ[\"SPARK_HOME\"] = \"/content/spark-3.5.5-bin-hadoop3\""
      ]
    },
    {
      "cell_type": "markdown",
      "metadata": {
        "id": "9DIFa4AOyqcu"
      },
      "source": [
        "# Démarrer une SparkSession\n",
        "\n",
        "**Travail à faire**:\n",
        "\n",
        "1. Démarrer une SparkSession en local appelée \"TP Arbres\"\n",
        "2. Récupérer le SparkContext associé avec la fonction `getOrCreate()` (comprendre son fonctionnement)"
      ]
    },
    {
      "cell_type": "code",
      "execution_count": null,
      "metadata": {
        "colab": {
          "base_uri": "https://localhost:8080/",
          "height": 219
        },
        "id": "A16ZR6n3zDnq",
        "outputId": "5e315acf-3a0b-49a1-c389-7cbc31a9777c"
      },
      "outputs": [],
      "source": [
        "# 1. Mise en place de la SparkSession\n",
        "\n",
        "# Importer les modules pyspark requis par SparkSession puis SparkContext\n",
        "...\n",
        "\n",
        "# Créer une SparkSession\n",
        "spark = ...\n",
        "\n",
        "# Vérification que cette SparkSession est fonctionnelle\n",
        "spark"
      ]
    },
    {
      "cell_type": "markdown",
      "metadata": {
        "id": "VKal87AcKdNT"
      },
      "source": [
        "Le SparkContext est créé lors de la création de la SparkSession, vérification ci-dessous"
      ]
    },
    {
      "cell_type": "code",
      "execution_count": null,
      "metadata": {
        "colab": {
          "base_uri": "https://localhost:8080/",
          "height": 196
        },
        "id": "lQsTVyxs4U62",
        "outputId": "908a3b61-b5e0-4883-a5aa-abe6d28cebf0"
      },
      "outputs": [
        {
          "data": {
            "text/html": [
              "\n",
              "        <div>\n",
              "            <p><b>SparkContext</b></p>\n",
              "\n",
              "            <p><a href=\"http://4bb13541016c:4040\">Spark UI</a></p>\n",
              "\n",
              "            <dl>\n",
              "              <dt>Version</dt>\n",
              "                <dd><code>v3.4.0</code></dd>\n",
              "              <dt>Master</dt>\n",
              "                <dd><code>local</code></dd>\n",
              "              <dt>AppName</dt>\n",
              "                <dd><code>TP arbres</code></dd>\n",
              "            </dl>\n",
              "        </div>\n",
              "        "
            ],
            "text/plain": [
              "<SparkContext master=local appName=TP arbres>"
            ]
          },
          "execution_count": 5,
          "metadata": {},
          "output_type": "execute_result"
        }
      ],
      "source": [
        "# 2. Récupération du SparkContext associé\n",
        "sc = ...\n",
        "\n",
        "sc"
      ]
    },
    {
      "cell_type": "markdown",
      "metadata": {
        "id": "nm4fDyNX0VlC"
      },
      "source": [
        "# Importation des données\n",
        "\n",
        "**Travail à faire**:\n",
        "\n",
        "1. Utiliser les fonctions `addFile` du SparkContext pour charger les données à partir de l'URL fournie.\n",
        "2. Utiliser `listFiles` pour voir les fichiers chargés.\n",
        "3. Utiliser `SparkFiles` pour charger les données dans un Dataframe Spark puis les visualiser.\n",
        "4. Manipuler le Dataframe Spark."
      ]
    },
    {
      "cell_type": "markdown",
      "metadata": {
        "id": "wtrF367D7EUx"
      },
      "source": [
        "Attention: lors de l'enregistrement du csv dans le SparkContext à l'aide de la fonction addFile, le nom du fichier devient \"csv\""
      ]
    },
    {
      "cell_type": "code",
      "execution_count": null,
      "metadata": {
        "colab": {
          "base_uri": "https://localhost:8080/"
        },
        "id": "Hw2IzN0I9Udo",
        "outputId": "f01b755f-a999-421e-c4ef-e2ea4761cdfb"
      },
      "outputs": [
        {
          "name": "stdout",
          "output_type": "stream",
          "text": [
            "+-----------+---------------+---------------+-----------------+----------+------------------+\n",
            "|domanialite| arrondissement|libellefrancais|circonferenceencm|hauteurenm|stadedeveloppement|\n",
            "+-----------+---------------+---------------+-----------------+----------+------------------+\n",
            "|     Jardin|PARIS 15E ARRDT|          Hêtre|                0|         0|              null|\n",
            "|     Jardin|PARIS 15E ARRDT|       Aubépine|               15|         5|              null|\n",
            "|     Jardin|PARIS 16E ARRDT|       Poivrier|               10|         3|     Jeune (arbre)|\n",
            "| Alignement|PARIS 16E ARRDT|        Platane|              170|        21|            Adulte|\n",
            "| Alignement|PARIS 16E ARRDT|        Ailante|              121|        12|            Adulte|\n",
            "+-----------+---------------+---------------+-----------------+----------+------------------+\n",
            "only showing top 5 rows\n",
            "\n"
          ]
        }
      ],
      "source": [
        "# 1. Chargement et visualisation des données\n",
        "\n",
        "# Importer les modules pyspark requis par SparkFiles\n",
        "from pyspark import ...\n",
        "\n",
        "# Chargement des données à partir de l'URL\n",
        "url = \"https://opendata.paris.fr/api/v2/catalog/datasets/les-arbres/exports/csv?select=domanialite%2C%20arrondissement%2C%20libellefrancais%2C%20circonferenceencm%2C%20hauteurenm%2C%20stadedeveloppement&limit=-1&offset=0&timezone=UTC\"\n",
        "...\n",
        "\n",
        "# 2. Lister les fichiers présents dans le SparkContext\n",
        "...\n",
        "\n",
        "# 3. Utiliser SparkFiles pour lire le fichier (il est au format csv)\n",
        "df = ...\n",
        "\n",
        "df.show(5)"
      ]
    },
    {
      "cell_type": "code",
      "execution_count": null,
      "metadata": {
        "colab": {
          "base_uri": "https://localhost:8080/"
        },
        "id": "oubhVzrzTRzK",
        "outputId": "26414fad-819e-4659-877f-2caf4e74fd34"
      },
      "outputs": [
        {
          "name": "stdout",
          "output_type": "stream",
          "text": [
            "root\n",
            " |-- domanialite: string (nullable = true)\n",
            " |-- arrondissement: string (nullable = true)\n",
            " |-- libellefrancais: string (nullable = true)\n",
            " |-- circonferenceencm: string (nullable = true)\n",
            " |-- hauteurenm: string (nullable = true)\n",
            " |-- stadedeveloppement: string (nullable = true)\n",
            "\n"
          ]
        }
      ],
      "source": [
        "# 4. Manipilation du Dataframe\n",
        "# Afficher son schéma\n",
        "\n",
        "..."
      ]
    },
    {
      "cell_type": "markdown",
      "metadata": {
        "id": "JcwZRV6l9qYN"
      },
      "source": [
        "Lorsque vous créez votre propre schéma et définissez les informations de champ, nullable est une option, par défaut, il est vrai, ce qui signifie que le champ que vous avez créé peut être nul."
      ]
    },
    {
      "cell_type": "code",
      "execution_count": null,
      "metadata": {
        "colab": {
          "base_uri": "https://localhost:8080/"
        },
        "id": "DNOP81ph9Ghb",
        "outputId": "30d95811-5100-4d65-fe95-73d21071d55a"
      },
      "outputs": [
        {
          "data": {
            "text/plain": [
              "207630"
            ]
          },
          "execution_count": 11,
          "metadata": {},
          "output_type": "execute_result"
        }
      ],
      "source": [
        "# Nombres de lignes du Dataframe\n",
        "..."
      ]
    },
    {
      "cell_type": "code",
      "execution_count": null,
      "metadata": {
        "colab": {
          "base_uri": "https://localhost:8080/"
        },
        "id": "PmieAwThMFeY",
        "outputId": "12fcd41e-ce60-459d-ef66-46f2e8a1644e"
      },
      "outputs": [
        {
          "name": "stdout",
          "output_type": "stream",
          "text": [
            "+-------------------+-----+\n",
            "| stadedeveloppement|count|\n",
            "+-------------------+-----+\n",
            "|             Adulte|77992|\n",
            "|Jeune (arbre)Adulte|38074|\n",
            "|               null|47995|\n",
            "|      Jeune (arbre)|36222|\n",
            "|             Mature| 7347|\n",
            "+-------------------+-----+\n",
            "\n",
            "None\n"
          ]
        }
      ],
      "source": [
        "# Observer les différentes valeurs prises par une variable catégorielle\n",
        "..."
      ]
    },
    {
      "cell_type": "markdown",
      "metadata": {
        "id": "9bqYBAoOKtFE"
      },
      "source": [
        "# Recherche de l'arrondissement ayant le moins d'arbres pour des plantations à venir\n",
        "\n",
        "**Travail à faire**:\n",
        "\n",
        "1. Sélectioner les colonnes *arrondissement*, *libellefrancais* et *stadedeveloppement* dans un nouveau DataFrame et fixer le type de ces colonnes à `string`\n",
        "2. Trier le tableau pour déterminer les arrondissements ayant le moins d'arbres"
      ]
    },
    {
      "cell_type": "markdown",
      "metadata": {
        "id": "iPjQzcZ6LOEU"
      },
      "source": [
        "**Sélection** des colonnes qui nous intéressent dans un nouveau DataFrame et changement de type de colonnes"
      ]
    },
    {
      "cell_type": "code",
      "execution_count": null,
      "metadata": {
        "colab": {
          "base_uri": "https://localhost:8080/"
        },
        "id": "-cRuC-jO-qkr",
        "outputId": "5bcb09f8-79ca-4e9d-85c8-93a4d0037e97"
      },
      "outputs": [
        {
          "name": "stdout",
          "output_type": "stream",
          "text": [
            "+---------------+---------------+-------------------+\n",
            "| arrondissement|libellefrancais| stadedeveloppement|\n",
            "+---------------+---------------+-------------------+\n",
            "|PARIS 15E ARRDT|          Hêtre|               null|\n",
            "|PARIS 15E ARRDT|       Aubépine|               null|\n",
            "|PARIS 16E ARRDT|       Poivrier|      Jeune (arbre)|\n",
            "|PARIS 16E ARRDT|        Platane|             Adulte|\n",
            "|PARIS 16E ARRDT|        Ailante|             Adulte|\n",
            "|PARIS 11E ARRDT|        Tilleul|Jeune (arbre)Adulte|\n",
            "| PARIS 8E ARRDT|     Marronnier|Jeune (arbre)Adulte|\n",
            "|PARIS 16E ARRDT|          Chêne|      Jeune (arbre)|\n",
            "|PARIS 13E ARRDT|        Tilleul|             Adulte|\n",
            "|PARIS 17E ARRDT|        Tilleul|      Jeune (arbre)|\n",
            "+---------------+---------------+-------------------+\n",
            "only showing top 10 rows\n",
            "\n"
          ]
        }
      ],
      "source": [
        "# 1. Sélection des colonnes\n",
        "df_plantations = ...\n",
        "\n",
        "df_plantations.show(10)"
      ]
    },
    {
      "cell_type": "code",
      "execution_count": null,
      "metadata": {
        "colab": {
          "base_uri": "https://localhost:8080/"
        },
        "id": "cftNRuSqRTgX",
        "outputId": "464f0599-4236-4dfd-9811-88cd4abbf39a"
      },
      "outputs": [
        {
          "name": "stdout",
          "output_type": "stream",
          "text": [
            "+-----------------+-----+\n",
            "|   arrondissement|count|\n",
            "+-----------------+-----+\n",
            "|   PARIS 2E ARRDT|  557|\n",
            "|   PARIS 3E ARRDT| 1273|\n",
            "|   PARIS 9E ARRDT| 1378|\n",
            "|  PARIS 1ER ARRDT| 1668|\n",
            "|   PARIS 6E ARRDT| 1793|\n",
            "|   PARIS 5E ARRDT| 2646|\n",
            "|   PARIS 4E ARRDT| 2781|\n",
            "|  PARIS 10E ARRDT| 3597|\n",
            "| BOIS DE BOULOGNE| 4100|\n",
            "|   HAUTS-DE-SEINE| 5338|\n",
            "|  PARIS 11E ARRDT| 6048|\n",
            "|   PARIS 8E ARRDT| 7473|\n",
            "|     VAL-DE-MARNE| 7583|\n",
            "|   PARIS 7E ARRDT| 8744|\n",
            "|  PARIS 18E ARRDT|10651|\n",
            "|  PARIS 14E ARRDT|11585|\n",
            "|  PARIS 17E ARRDT|11681|\n",
            "|BOIS DE VINCENNES|11763|\n",
            "|SEINE-SAINT-DENIS|12109|\n",
            "|  PARIS 12E ARRDT|12804|\n",
            "+-----------------+-----+\n",
            "only showing top 20 rows\n",
            "\n"
          ]
        }
      ],
      "source": [
        "# 2. Tri\n",
        "tri_par_arrondissement = ...\n",
        "\n",
        "tri_par_arrondissement.show()"
      ]
    },
    {
      "cell_type": "code",
      "execution_count": null,
      "metadata": {
        "colab": {
          "base_uri": "https://localhost:8080/"
        },
        "id": "j_bCHxJTSQ-C",
        "outputId": "02fcdcf1-7c48-4f89-9c42-395fff7bc2b7"
      },
      "outputs": [
        {
          "name": "stdout",
          "output_type": "stream",
          "text": [
            "Les prochaines plantations à prévoir pourront se faire en priorité dans les localisations suivantes\n",
            "+--------------+\n",
            "|arrondissement|\n",
            "+--------------+\n",
            "|PARIS 2E ARRDT|\n",
            "|PARIS 3E ARRDT|\n",
            "+--------------+\n",
            "\n"
          ]
        }
      ],
      "source": [
        "print(\"Les prochaines plantations à prévoir pourront se faire en priorité dans les deux localisations suivantes\")\n",
        "..."
      ]
    },
    {
      "cell_type": "markdown",
      "metadata": {
        "id": "GzKskT-2Vjej"
      },
      "source": [
        "# Pour aller plus loin\n",
        "\n",
        "**Travail à faire**:\n",
        "\n",
        "1. Pour chaque arrondissement, faire un double comptage de nombre d'arbres total et par stade de développement\n",
        "2. Quelle est la hauteur moyenne des arbres par arrondissement?"
      ]
    },
    {
      "cell_type": "code",
      "execution_count": null,
      "metadata": {
        "colab": {
          "base_uri": "https://localhost:8080/"
        },
        "id": "ySDQPSt2UTrj",
        "outputId": "09f769f5-ae0f-4bf2-8bd7-78f1e6ec4bcd"
      },
      "outputs": [
        {
          "name": "stdout",
          "output_type": "stream",
          "text": [
            "+---------------+-------------------+----------+-----+\n",
            "| arrondissement| stadedeveloppement|count_dvpt|count|\n",
            "+---------------+-------------------+----------+-----+\n",
            "| PARIS 2E ARRDT|      Jeune (arbre)|        67|  557|\n",
            "| PARIS 2E ARRDT|             Adulte|       358|  557|\n",
            "| PARIS 2E ARRDT|Jeune (arbre)Adulte|        77|  557|\n",
            "| PARIS 2E ARRDT|             Mature|        17|  557|\n",
            "| PARIS 2E ARRDT|               null|        38|  557|\n",
            "| PARIS 3E ARRDT|Jeune (arbre)Adulte|       256| 1273|\n",
            "| PARIS 3E ARRDT|      Jeune (arbre)|       162| 1273|\n",
            "| PARIS 3E ARRDT|             Adulte|       725| 1273|\n",
            "| PARIS 3E ARRDT|               null|        86| 1273|\n",
            "| PARIS 3E ARRDT|             Mature|        44| 1273|\n",
            "| PARIS 9E ARRDT|Jeune (arbre)Adulte|       134| 1378|\n",
            "| PARIS 9E ARRDT|               null|       165| 1378|\n",
            "| PARIS 9E ARRDT|             Adulte|       771| 1378|\n",
            "| PARIS 9E ARRDT|      Jeune (arbre)|       275| 1378|\n",
            "| PARIS 9E ARRDT|             Mature|        33| 1378|\n",
            "|PARIS 1ER ARRDT|               null|       149| 1668|\n",
            "|PARIS 1ER ARRDT|             Adulte|       671| 1668|\n",
            "|PARIS 1ER ARRDT|Jeune (arbre)Adulte|       659| 1668|\n",
            "|PARIS 1ER ARRDT|             Mature|         7| 1668|\n",
            "|PARIS 1ER ARRDT|      Jeune (arbre)|       182| 1668|\n",
            "+---------------+-------------------+----------+-----+\n",
            "only showing top 20 rows\n",
            "\n"
          ]
        }
      ],
      "source": [
        "# 1. Double comptage\n",
        "...\n",
        "\n",
        "result.show()"
      ]
    },
    {
      "cell_type": "code",
      "execution_count": null,
      "metadata": {
        "colab": {
          "base_uri": "https://localhost:8080/"
        },
        "id": "66gS3iaEjGez",
        "outputId": "13a3850a-82b7-4fa8-c27a-06642636a1b6"
      },
      "outputs": [
        {
          "name": "stdout",
          "output_type": "stream",
          "text": [
            "+-----------------+------------------+\n",
            "|   arrondissement|   avg(hauteurenm)|\n",
            "+-----------------+------------------+\n",
            "|   HAUTS-DE-SEINE| 2.280629449231922|\n",
            "|SEINE-SAINT-DENIS|  5.01577339169213|\n",
            "|  PARIS 15E ARRDT| 6.535497660447114|\n",
            "|     VAL-DE-MARNE| 7.152710009231175|\n",
            "|  PARIS 1ER ARRDT| 8.299760191846524|\n",
            "|  PARIS 13E ARRDT| 8.641970953136944|\n",
            "|  PARIS 17E ARRDT| 8.769711497303312|\n",
            "|  PARIS 12E ARRDT| 8.798344267416432|\n",
            "|  PARIS 20E ARRDT| 9.046179359612195|\n",
            "|  PARIS 14E ARRDT| 9.086750107898144|\n",
            "|  PARIS 19E ARRDT| 9.105816210427681|\n",
            "|BOIS DE VINCENNES| 9.428547139335203|\n",
            "|   PARIS 9E ARRDT| 9.482583454281567|\n",
            "|  PARIS 18E ARRDT| 9.556755234250305|\n",
            "|   PARIS 2E ARRDT|  9.58527827648115|\n",
            "|   PARIS 3E ARRDT| 9.688923802042419|\n",
            "|  PARIS 11E ARRDT| 9.702711640211641|\n",
            "|   PARIS 4E ARRDT|10.016540812657318|\n",
            "|  PARIS 10E ARRDT|10.430914651098137|\n",
            "|  PARIS 16E ARRDT|10.512878920623795|\n",
            "|   PARIS 7E ARRDT| 10.91651418115279|\n",
            "| BOIS DE BOULOGNE|10.972926829268292|\n",
            "|   PARIS 5E ARRDT| 10.98185941043084|\n",
            "|   PARIS 6E ARRDT|11.177356385945343|\n",
            "|   PARIS 8E ARRDT|11.758196172889066|\n",
            "+-----------------+------------------+\n",
            "\n"
          ]
        }
      ],
      "source": [
        "# 2. Calcul de la hauteur moyenne des arbres par arrondissement\n",
        "...\n",
        "\n",
        "hauteur_moyenne_par_arrondissement.show(40)"
      ]
    }
  ],
  "metadata": {
    "colab": {
      "provenance": []
    },
    "kernelspec": {
      "display_name": "Python 3",
      "name": "python3"
    },
    "language_info": {
      "name": "python"
    }
  },
  "nbformat": 4,
  "nbformat_minor": 0
}
