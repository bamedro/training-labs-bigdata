{
  "nbformat": 4,
  "nbformat_minor": 0,
  "metadata": {
    "colab": {
      "provenance": []
    },
    "kernelspec": {
      "name": "python3",
      "display_name": "Python 3"
    },
    "language_info": {
      "name": "python"
    }
  },
  "cells": [
    {
      "cell_type": "markdown",
      "source": [
        "# Installation de Spark"
      ],
      "metadata": {
        "id": "4A-s4Gb3SoGY"
      }
    },
    {
      "cell_type": "code",
      "execution_count": null,
      "metadata": {
        "id": "Y-YlLriHJD_h"
      },
      "outputs": [],
      "source": [
        "# Install Spark\n",
        "!wget -nc -q https://raw.githubusercontent.com/bamedro/training-bigdata/main/4-spark/setup-spark-on-ubuntu.sh\n",
        "!chmod u+x setup-spark-on-ubuntu.sh\n",
        "!./setup-spark-on-ubuntu.sh"
      ]
    },
    {
      "cell_type": "code",
      "source": [
        "# Définition des variables d'environnement (adapter si besoin)\n",
        "!ls /usr/lib/jvm /content\n",
        "import os\n",
        "os.environ[\"JAVA_HOME\"] = \"/usr/lib/jvm/java-17-openjdk-amd64\"\n",
        "os.environ[\"SPARK_HOME\"] = \"/content/spark-3.5.5-bin-hadoop3\""
      ],
      "metadata": {
        "colab": {
          "base_uri": "https://localhost:8080/"
        },
        "id": "q1o2F4JvI8mY",
        "outputId": "4232d107-6cb3-452f-d9b9-fbe07dd41f49"
      },
      "execution_count": 2,
      "outputs": [
        {
          "output_type": "stream",
          "name": "stdout",
          "text": [
            "/content:\n",
            "sample_data\t\t  spark-3.5.5-bin-hadoop3\n",
            "setup-spark-on-ubuntu.sh  spark-3.5.5-bin-hadoop3.tgz\n",
            "\n",
            "/usr/lib/jvm:\n",
            "java-1.11.0-openjdk-amd64  java-11-openjdk-amd64\n",
            "java-1.17.0-openjdk-amd64  java-17-openjdk-amd64\n"
          ]
        }
      ]
    },
    {
      "cell_type": "markdown",
      "source": [
        "# Créer un SparkContext\n",
        "**Travail à faire:**\n",
        "\n",
        "Construire un SparkContext en local appelé \"TPWordcount\""
      ],
      "metadata": {
        "id": "UavgdgjLLj6W"
      }
    },
    {
      "cell_type": "code",
      "source": [
        "# Importer les modules pyspark requis\n",
        "from pyspark import ...\n",
        "\n",
        "# Définir un SparkConf\n",
        "conf = ...\n",
        "\n",
        "# Créer le SparkContext\n",
        "sc = ..."
      ],
      "metadata": {
        "id": "swEGgWiDLcXz"
      },
      "execution_count": 4,
      "outputs": []
    },
    {
      "cell_type": "code",
      "source": [
        "# Vérification que le Spark Context est fonctionnel\n",
        "sc"
      ],
      "metadata": {
        "colab": {
          "base_uri": "https://localhost:8080/",
          "height": 196
        },
        "id": "x5_k41o0MSpT",
        "outputId": "23f367ce-65c9-4354-af52-aaa87e3a167a"
      },
      "execution_count": null,
      "outputs": [
        {
          "output_type": "execute_result",
          "data": {
            "text/plain": [
              "<SparkContext master=local appName=TPwordcount>"
            ],
            "text/html": [
              "\n",
              "        <div>\n",
              "            <p><b>SparkContext</b></p>\n",
              "\n",
              "            <p><a href=\"http://3bb979981708:4040\">Spark UI</a></p>\n",
              "\n",
              "            <dl>\n",
              "              <dt>Version</dt>\n",
              "                <dd><code>v3.4.0</code></dd>\n",
              "              <dt>Master</dt>\n",
              "                <dd><code>local</code></dd>\n",
              "              <dt>AppName</dt>\n",
              "                <dd><code>TPwordcount</code></dd>\n",
              "            </dl>\n",
              "        </div>\n",
              "        "
            ]
          },
          "metadata": {},
          "execution_count": 4
        }
      ]
    },
    {
      "cell_type": "markdown",
      "source": [
        "# Importation des données"
      ],
      "metadata": {
        "id": "LTZnS76eNw8X"
      }
    },
    {
      "cell_type": "code",
      "source": [
        "!wget -nc -q https://raw.githubusercontent.com/bamedro/training-bigdata/main/4-spark/meilleures_audiences_depuis_1945.txt\n",
        "\n",
        "# Importer la base de données \"Meilleures_audiences_depuis_1945.txt\"\n",
        "rdd_file = sc.textFile(\"/content/meilleures_audiences_depuis_1945.txt\")\n",
        "rdd_file.take(5)"
      ],
      "metadata": {
        "id": "DPD7fWxxP_8J",
        "colab": {
          "base_uri": "https://localhost:8080/"
        },
        "outputId": "35b21405-c70d-4e96-e372-d0383ae1a30f"
      },
      "execution_count": 17,
      "outputs": [
        {
          "output_type": "execute_result",
          "data": {
            "text/plain": [
              "['Titanic',\n",
              " \"Bienvenue chez les Ch'tis\",\n",
              " 'Intouchables',\n",
              " 'La Grande Vadrouille',\n",
              " 'Autant en emporte le vent']"
            ]
          },
          "metadata": {},
          "execution_count": 17
        }
      ]
    },
    {
      "cell_type": "markdown",
      "source": [
        "# Compter le nombre de mots moyen par titre\n",
        "\n",
        "**Travail à réaliser**:\n",
        "1. Créer un RDD dont chaque ligne est la liste des éléments de la ligne correspondante dans `rdd_file` en utilisant les fonctions `flatMap` et `map` du RDD.\n",
        "\n",
        "2. Compter le nombre de mots par titre\n",
        "\n",
        "3. Calculer le nombde moyen de mots par titre"
      ],
      "metadata": {
        "id": "JwYeWKFebAO0"
      }
    },
    {
      "cell_type": "code",
      "source": [
        "# 1. Construction des rdd\n",
        "lines_rdd = ... # séparation des lignes\n",
        "words_rdd = ... # séparation des mots\n",
        "\n",
        "words_rdd.take(5)"
      ],
      "metadata": {
        "id": "u-GxjlEGa_RL",
        "colab": {
          "base_uri": "https://localhost:8080/"
        },
        "outputId": "6fa90ca3-d58f-4453-9c2e-329a9dfd193c"
      },
      "execution_count": 16,
      "outputs": [
        {
          "output_type": "execute_result",
          "data": {
            "text/plain": [
              "[['Titanic'],\n",
              " ['Bienvenue', 'chez', 'les', \"Ch'tis\"],\n",
              " ['Intouchables'],\n",
              " ['La', 'Grande', 'Vadrouille'],\n",
              " ['Autant', 'en', 'emporte', 'le', 'vent']]"
            ]
          },
          "metadata": {},
          "execution_count": 16
        }
      ]
    },
    {
      "cell_type": "code",
      "source": [
        "# 2. Comptage du nombre mots\n",
        "nb_words_rdd = ...\n",
        "\n",
        "nb_words_rdd.take(5)"
      ],
      "metadata": {
        "id": "DhINCQUtXUlX",
        "colab": {
          "base_uri": "https://localhost:8080/"
        },
        "outputId": "a3094c4c-dac8-4573-a7e1-892c15de4c97"
      },
      "execution_count": 18,
      "outputs": [
        {
          "output_type": "execute_result",
          "data": {
            "text/plain": [
              "[1, 4, 1, 3, 5]"
            ]
          },
          "metadata": {},
          "execution_count": 18
        }
      ]
    },
    {
      "cell_type": "code",
      "source": [
        "# 3. Calcul de la moyenne\n",
        "moyenne = ...\n",
        "\n",
        "print(\"En moyenne, il y a {} mots dans les meilleurs titres de films français depuis 1945\".format(round(moyenne, 1)))"
      ],
      "metadata": {
        "id": "hyuSapNZeXdH",
        "colab": {
          "base_uri": "https://localhost:8080/"
        },
        "outputId": "9fd8d95e-a2f9-482a-ecce-799b03fe7ceb"
      },
      "execution_count": 19,
      "outputs": [
        {
          "output_type": "stream",
          "name": "stdout",
          "text": [
            "En moyenne, il y a 3.9 mots dans les meilleurs titres de films français depuis 1945\n"
          ]
        }
      ]
    },
    {
      "cell_type": "markdown",
      "source": [
        "# Connaître les mots les plus fréquents dans les titres\n",
        "\n",
        "**Travail à réaliser**:\n",
        "\n",
        "1. Passes les chaînes en minuscule et utiliser flatMap pour créer un RDD dont chaque ligne est la liste des éléments de la ligne correspondante dans `rdd_file`\n",
        "\n",
        "2. Compter le nombre d'occurences de chaque mot (indication: utiliser `map` + `reduceByKey`)"
      ],
      "metadata": {
        "id": "672nfTiVixUr"
      }
    },
    {
      "cell_type": "code",
      "source": [
        "# 1. Construction du RDD\n",
        "lines_rdd = ... # séparation des lignes\n",
        "words_rdd = ... # séparation des mots et mettre les chaînes en minuscules\n",
        "\n",
        "words_rdd.take(5)"
      ],
      "metadata": {
        "id": "4RHc1_eHhjP2",
        "colab": {
          "base_uri": "https://localhost:8080/"
        },
        "outputId": "f098b9b7-dc72-4514-e28b-8459c7c6f702"
      },
      "execution_count": 20,
      "outputs": [
        {
          "output_type": "execute_result",
          "data": {
            "text/plain": [
              "['titanic', 'bienvenue', 'chez', 'les', \"ch'tis\"]"
            ]
          },
          "metadata": {},
          "execution_count": 20
        }
      ]
    },
    {
      "cell_type": "code",
      "source": [
        "# 2. Comptage du nombre d'occurences\n",
        "...\n",
        "words_count = ..."
      ],
      "metadata": {
        "id": "Ia1nhisBjB0H"
      },
      "execution_count": null,
      "outputs": []
    },
    {
      "cell_type": "code",
      "source": [
        "# Vérification en affichant les 10 premiers mots les plus fréquents\n",
        "words_count.take(10)"
      ],
      "metadata": {
        "id": "DWUfP_9rkdeZ",
        "colab": {
          "base_uri": "https://localhost:8080/"
        },
        "outputId": "3b350199-b17f-4ea5-d97b-8faa6226591d"
      },
      "execution_count": 25,
      "outputs": [
        {
          "output_type": "stream",
          "name": "stdout",
          "text": [
            "[('le', 50), ('la', 43), ('les', 39), ('de', 36), ('et', 23), ('des', 20), ('-', 15), ('du', 12), ('', 11), ('2', 10)]\n"
          ]
        }
      ]
    },
    {
      "cell_type": "markdown",
      "source": [
        "On note que les mots les plus fréquents sont des articles et ce ne sont pas vraiment les mots qui nous intéressent...   \n",
        "\n",
        "## Pour aller plus loin supprimer les stopwords (mots sans valeurs)\n",
        "\n",
        "**Travail à réaliser**:\n",
        "\n",
        "1. En utilisant la librairie nltk, construire la liste des stopwords à écarter de notre liste de mots\n",
        "\n",
        "2. Reconstruire les RDD en filtrant les stopwords\n",
        "\n",
        "3. Compter les nombres d'occurences de chaque mots"
      ],
      "metadata": {
        "id": "ARbCGbNeoDIs"
      }
    },
    {
      "cell_type": "code",
      "source": [
        "# 1. Importation des stopwords français avec la librairie nltk\n",
        "# https://www.nltk.org/howto/portuguese_en.html?highlight=stopwords#stopwords\n",
        "import nltk\n",
        "nltk.download('stopwords')\n",
        "from nltk.corpus import stopwords\n",
        "\n",
        "# Mettre la liste des stopwords dans une variable\n",
        "stop_words = ..."
      ],
      "metadata": {
        "id": "Ca_le2vLpQbD",
        "colab": {
          "base_uri": "https://localhost:8080/"
        },
        "outputId": "27486e02-2dbc-4f57-a6a5-3eaa308cff66"
      },
      "execution_count": 26,
      "outputs": [
        {
          "output_type": "stream",
          "name": "stderr",
          "text": [
            "[nltk_data] Downloading package stopwords to /root/nltk_data...\n",
            "[nltk_data]   Unzipping corpora/stopwords.zip.\n"
          ]
        }
      ]
    },
    {
      "cell_type": "code",
      "source": [
        "# 2. Filtration des stopwords\n",
        "lines_rdd = ...  # séparation des lignes\n",
        "lines_filtered = ...  # filtrer les stopwords\n",
        "words_rdd = ...  # séparation des mots\n",
        "\n",
        "words_rdd.take(5)"
      ],
      "metadata": {
        "id": "EtJ-dZPekhCd",
        "colab": {
          "base_uri": "https://localhost:8080/"
        },
        "outputId": "f8351685-9fc6-4172-9b69-fb81403f2314"
      },
      "execution_count": 27,
      "outputs": [
        {
          "output_type": "execute_result",
          "data": {
            "text/plain": [
              "['titanic', 'bienvenue', 'chez', \"ch'tis\", 'intouchables']"
            ]
          },
          "metadata": {},
          "execution_count": 27
        }
      ]
    },
    {
      "cell_type": "code",
      "source": [
        "# 3. Comtpage des mots\n",
        "...\n",
        "words_count2 = ...\n",
        "\n",
        "# Afficher les 10 premiers mots le plus fréquents\n",
        "words_count2.take(20)"
      ],
      "metadata": {
        "id": "69PncI7hn1Tj",
        "colab": {
          "base_uri": "https://localhost:8080/"
        },
        "outputId": "d78c642e-c1e4-4cbe-da18-f17fed74ba7f"
      },
      "execution_count": 28,
      "outputs": [
        {
          "output_type": "stream",
          "name": "stdout",
          "text": [
            "[('-', 15), ('2', 10), (':', 8), ('harry', 8), ('potter', 8), ('3', 7), ('star', 6), ('wars', 6), ('monde', 5), ('�', 5), ('?', 4), ('�pisode', 4), ('ast�rix', 3), ('mission', 3), ('petit', 3), ('a', 3), ('bon', 3), ('roi', 3), ('taxi', 3), ('trois', 3)]\n"
          ]
        }
      ]
    }
  ]
}
